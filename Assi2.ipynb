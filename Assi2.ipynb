{
 "cells": [
  {
   "cell_type": "code",
   "execution_count": 1,
   "id": "7c5e3877-f273-4688-bcb6-5d6671228321",
   "metadata": {},
   "outputs": [
    {
     "name": "stdout",
     "output_type": "stream",
     "text": [
      "1\n",
      "2\n",
      "3\n",
      "4\n",
      "5\n",
      "6\n",
      "7\n",
      "8\n",
      "9\n",
      "10\n"
     ]
    }
   ],
   "source": [
    "# print 1 to 100\n",
    "for i in range(1,11):\n",
    "    print(i)"
   ]
  },
  {
   "cell_type": "code",
   "execution_count": 5,
   "id": "6dbbf6ea-d3bb-48ac-b0ec-7f197e572a80",
   "metadata": {},
   "outputs": [],
   "source": [
    "# sum all elements of a list\n",
    "l = []\n",
    "for i in l:\n",
    "    i = int(input('Enter element of list : '))\n",
    "    l.append(i)\n",
    "a = 0\n",
    "for i in l:\n",
    "    a+=i\n"
   ]
  },
  {
   "cell_type": "code",
   "execution_count": 4,
   "id": "8db5e59c-66a2-4ec9-8b89-4505c50a1fbf",
   "metadata": {},
   "outputs": [
    {
     "name": "stdin",
     "output_type": "stream",
     "text": [
      "Enter the string :  asdfgh\n"
     ]
    },
    {
     "name": "stdout",
     "output_type": "stream",
     "text": [
      "hgfdsa\n"
     ]
    }
   ],
   "source": [
    "# reverse string\n",
    "x = str(input('Enter the string : '))\n",
    "n = len(x)\n",
    "a = '' \n",
    "for i in range(0,n):\n",
    "    a = a + x[n-1-i]   \n",
    "print(a)        "
   ]
  },
  {
   "cell_type": "code",
   "execution_count": 6,
   "id": "16ed3a5f-6f67-4804-a6f4-7cf1e14ce26f",
   "metadata": {},
   "outputs": [
    {
     "name": "stdin",
     "output_type": "stream",
     "text": [
      "Enter the no of factorial :  5\n"
     ]
    },
    {
     "name": "stdout",
     "output_type": "stream",
     "text": [
      "120\n"
     ]
    }
   ],
   "source": [
    "# Factorial\n",
    "x = int(input(\"Enter the no of factorial : \"))\n",
    "a = 1\n",
    "for i in range(1,x+1):\n",
    "    a*=i\n",
    "print(a)    "
   ]
  },
  {
   "cell_type": "code",
   "execution_count": null,
   "id": "fcf1e6e0-2459-4248-939b-a563d7f591ed",
   "metadata": {},
   "outputs": [],
   "source": [
    "# Table\n",
    "x = int(input('Enter the no : '))\n",
    "for i in range(1,11):\n",
    "    print(f\"{x} * {i} = {x*i}\")"
   ]
  },
  {
   "cell_type": "code",
   "execution_count": null,
   "id": "2a894d2d-2662-43b1-a92e-2e8f5400070a",
   "metadata": {},
   "outputs": [],
   "source": []
  }
 ],
 "metadata": {
  "kernelspec": {
   "display_name": "Python 3 (ipykernel)",
   "language": "python",
   "name": "python3"
  },
  "language_info": {
   "codemirror_mode": {
    "name": "ipython",
    "version": 3
   },
   "file_extension": ".py",
   "mimetype": "text/x-python",
   "name": "python",
   "nbconvert_exporter": "python",
   "pygments_lexer": "ipython3",
   "version": "3.10.8"
  }
 },
 "nbformat": 4,
 "nbformat_minor": 5
}
